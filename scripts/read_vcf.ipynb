{
 "cells": [
  {
   "cell_type": "code",
   "execution_count": 6,
   "id": "9b92cd64",
   "metadata": {},
   "outputs": [],
   "source": [
    "file = '../data/vcf/wxs.MuTect2.aliquot.ann.vcf'"
   ]
  },
  {
   "cell_type": "code",
   "execution_count": 8,
   "id": "9c54c927",
   "metadata": {},
   "outputs": [
    {
     "name": "stdout",
     "output_type": "stream",
     "text": [
      "##SnpEffVersion=\"5.1d (build 2022-04-19 15:49), by Pablo Cingolani\"\n",
      "\n",
      "##SnpEffCmd=\"SnpEff  GRCh38.86 data/vcf/wxs.MuTect2.aliquot.vcf \"\n",
      "\n",
      "##INFO=<ID=ANN,Number=.,Type=String,Description=\"Functional annotations: 'Allele | Annotation | Annotation_Impact | Gene_Name | Gene_ID | Feature_Type | Feature_ID | Transcript_BioType | Rank | HGVS.c | HGVS.p | cDNA.pos / cDNA.length | CDS.pos / CDS.length | AA.pos / AA.length | Distance | ERRORS / WARNINGS / INFO' \">\n",
      "\n",
      "##INFO=<ID=LOF,Number=.,Type=String,Description=\"Predicted loss of function effects for this variant. Format: 'Gene_Name | Gene_ID | Number_of_transcripts_in_gene | Percent_of_transcripts_affected'\">\n",
      "\n",
      "##INFO=<ID=NMD,Number=.,Type=String,Description=\"Predicted nonsense mediated decay effects for this variant. Format: 'Gene_Name | Gene_ID | Number_of_transcripts_in_gene | Percent_of_transcripts_affected'\">\n",
      "\n",
      "#CHROM\tPOS\tID\tREF\tALT\tQUAL\tFILTER\tINFO\tFORMAT\tTUMOR\tNORMAL\n",
      "\n",
      "chr1\t187153\t.\tT\tC\t.\t.\tANN=C|missense_variant|MODERATE|FO538757.1|ENSG00000279457|transcript|ENST00000623083.3|protein_coding|8/11|c.1015A>G|p.Ser339Gly|1015/1687|1015/1395|339/464||,C|missense_variant|MODERATE|FO538757.1|ENSG00000279457|transcript|ENST00000624735.1|protein_coding|11/15|c.1042A>G|p.Ser348Gly|1278/1604|1042/1368|348/455||,C|downstream_gene_variant|MODIFIER|FO538757.2|ENSG00000279928|transcript|ENST00000624431.1|protein_coding||c.*2995T>C|||||2995|,C|downstream_gene_variant|MODIFIER|MIR6859-2|ENSG00000273874|transcript|ENST00000612080.1|miRNA||n.*738A>G|||||738|,C|intron_variant|MODIFIER|FO538757.1|ENSG00000279457|transcript|ENST00000623834.3|protein_coding|8/9|c.877+223A>G||||||\n",
      "\n",
      "chr1\t601515\t.\tT\tC\t.\t.\tANN=C|upstream_gene_variant|MODIFIER|RP5-857K21.4|ENSG00000230021|transcript|ENST00000357876.5|lincRNA||n.-4017A>G|||||4017|,C|non_coding_transcript_exon_variant|MODIFIER|RP5-857K21.4|ENSG00000230021|transcript|ENST00000634833.1|lincRNA|3/6|n.255A>G||||||,C|non_coding_transcript_exon_variant|MODIFIER|RP5-857K21.4|ENSG00000230021|transcript|ENST00000635509.1|lincRNA|3/4|n.374A>G||||||,C|non_coding_transcript_exon_variant|MODIFIER|RP5-857K21.4|ENSG00000230021|transcript|ENST00000634337.1|lincRNA|4/5|n.324A>G||||||,C|non_coding_transcript_exon_variant|MODIFIER|RP5-857K21.4|ENSG00000230021|transcript|ENST00000440200.5|lincRNA|3/3|n.334A>G||||||\n",
      "\n",
      "chr1\t601544\t.\tG\tA\t.\t.\tANN=A|upstream_gene_variant|MODIFIER|RP5-857K21.4|ENSG00000230021|transcript|ENST00000357876.5|lincRNA||n.-4046C>T|||||4046|,A|non_coding_transcript_exon_variant|MODIFIER|RP5-857K21.4|ENSG00000230021|transcript|ENST00000634833.1|lincRNA|3/6|n.226C>T||||||,A|non_coding_transcript_exon_variant|MODIFIER|RP5-857K21.4|ENSG00000230021|transcript|ENST00000635509.1|lincRNA|3/4|n.345C>T||||||,A|non_coding_transcript_exon_variant|MODIFIER|RP5-857K21.4|ENSG00000230021|transcript|ENST00000634337.1|lincRNA|4/5|n.295C>T||||||,A|non_coding_transcript_exon_variant|MODIFIER|RP5-857K21.4|ENSG00000230021|transcript|ENST00000440200.5|lincRNA|3/3|n.305C>T||||||\n",
      "\n",
      "chr1\t873730\t.\tG\tA\t.\t.\tANN=A|upstream_gene_variant|MODIFIER|FAM41C|ENSG00000230368|transcript|ENST00000432963.1|lincRNA||n.-3529C>T|||||3529|,A|downstream_gene_variant|MODIFIER|FAM166AP3|ENSG00000283040|transcript|ENST00000635557.1|transcribed_unprocessed_pseudogene||n.*799C>T|||||799|,A|intron_variant|MODIFIER|FAM41C|ENSG00000230368|transcript|ENST00000446136.1|lincRNA|2/2|n.1202+382C>T||||||,A|intron_variant|MODIFIER|FAM41C|ENSG00000230368|transcript|ENST00000427857.1|lincRNA|2/2|n.173+1310C>T||||||,A|non_coding_transcript_exon_variant|MODIFIER|TUBB8P11|ENSG00000234711|transcript|ENST00000415481.1|unprocessed_pseudogene|1/1|n.439G>A||||||\n",
      "\n"
     ]
    }
   ],
   "source": [
    "limit_max = 10\n",
    "ct = 0\n",
    "\n",
    "data={}\n",
    "with open(file, 'r') as fh:\n",
    "    for line in fh:\n",
    "        if line.startswith('##SnpEffCmd='):\n",
    "            print('HERE')\n",
    "            d\n",
    "        if ct < limit_max:\n",
    "            print(line)\n",
    "            ct +=1\n",
    "        else:\n",
    "            break"
   ]
  },
  {
   "cell_type": "code",
   "execution_count": 14,
   "id": "25738c12",
   "metadata": {},
   "outputs": [],
   "source": [
    "#pip install gripql\n",
    "import gripql\n",
    "# conn = gripql.Connection(\"http://localhost:8201\")\n",
    "# G = conn.graph(\"rc6\")\n",
    "conn = gripql.Connection('https://bmeg.io/grip', credential_file = '../secrets/bmeg_credentials.json')\n",
    "O = conn.graph('rc6') #specific graph version"
   ]
  },
  {
   "cell_type": "code",
   "execution_count": 21,
   "id": "ca750bf5",
   "metadata": {},
   "outputs": [
    {
     "name": "stdout",
     "output_type": "stream",
     "text": [
      "Allele:c34dff90a68f5cf74bf04bf27057b2a2180d7403\n",
      "\n",
      "all_effects\n",
      "DDX11L1,intron_variant,,ENST00000456328,;,regulatory_region_variant,,ENSR00001576075,;DDX11L1,intron_variant,,ENST00000515242,;DDX11L1,intron_variant,,ENST00000518655,;DDX11L1,intron_variant,,ENST00000450305,;WASH7P,downstream_gene_variant,,ENST00000438504,;WASH7P,downstream_gene_variant,,ENST00000423562,;WASH7P,downstream_gene_variant,,ENST00000538476,;WASH7P,downstream_gene_variant,,ENST00000541675,;WASH7P,downstream_gene_variant,,ENST00000488147,;\n",
      "\n",
      "alternate_bases\n",
      "G\n",
      "\n",
      "biotype\n",
      "processed_transcript\n",
      "\n",
      "cdna_position\n",
      "-/1657\n",
      "\n",
      "chromosome\n",
      "1\n",
      "\n",
      "dbsnp_rs\n",
      "novel\n",
      "\n",
      "end\n",
      "13079\n",
      "\n",
      "ensembl_gene\n",
      "ENSG00000223972\n",
      "\n",
      "ensembl_transcript\n",
      "ENST00000456328\n",
      "\n",
      "genome\n",
      "GRCh37\n",
      "\n",
      "hgnc_id\n",
      "37102\n",
      "\n",
      "hgvsc\n",
      "n.469-142C>G\n",
      "\n",
      "hugo_symbol\n",
      "DDX11L1\n",
      "\n",
      "impact\n",
      "MODIFIER\n",
      "\n",
      "project_id\n",
      "Project:Reference\n",
      "\n",
      "reference_bases\n",
      "C\n",
      "\n",
      "start\n",
      "13079\n",
      "\n",
      "strand\n",
      "+\n",
      "\n",
      "submitter_id\n",
      "None\n",
      "\n",
      "variant_classification\n",
      "Intron\n",
      "\n",
      "variant_type\n",
      "SNP\n",
      "\n"
     ]
    }
   ],
   "source": [
    "q = O.query().V().hasLabel(\"Allele\").limit(1).as_('a')\n",
    "q = q.render([\"$a._gid\", \"$a._data\"])\n",
    "for row in q:\n",
    "    print(row[0])\n",
    "    print()\n",
    "    for k,v in row[1].items():\n",
    "        print(k)\n",
    "        print(v)\n",
    "        print()"
   ]
  },
  {
   "cell_type": "code",
   "execution_count": null,
   "id": "9861f18b",
   "metadata": {},
   "outputs": [],
   "source": []
  },
  {
   "cell_type": "code",
   "execution_count": null,
   "id": "a4832456",
   "metadata": {},
   "outputs": [],
   "source": []
  }
 ],
 "metadata": {
  "kernelspec": {
   "display_name": "Python 3 (ipykernel)",
   "language": "python",
   "name": "python3"
  },
  "language_info": {
   "codemirror_mode": {
    "name": "ipython",
    "version": 3
   },
   "file_extension": ".py",
   "mimetype": "text/x-python",
   "name": "python",
   "nbconvert_exporter": "python",
   "pygments_lexer": "ipython3",
   "version": "3.9.13"
  }
 },
 "nbformat": 4,
 "nbformat_minor": 5
}
